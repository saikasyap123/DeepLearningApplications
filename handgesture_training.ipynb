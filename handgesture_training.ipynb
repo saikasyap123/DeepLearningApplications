{
 "cells": [
  {
   "cell_type": "code",
   "execution_count": 22,
   "metadata": {},
   "outputs": [],
   "source": [
    "import keras\n",
    "from keras.layers import Dense,Activation,Conv2D,Dropout,Flatten,MaxPooling2D\n",
    "from keras.models import Sequential\n",
    "from keras.metrics import categorical_crossentropy\n",
    "from keras.optimizers import Adam\n",
    "from keras.preprocessing.image import ImageDataGenerator"
   ]
  },
  {
   "cell_type": "code",
   "execution_count": 23,
   "metadata": {},
   "outputs": [],
   "source": [
    "testpath = 'HandRecognition/test'\n",
    "trainpath = 'HandRecognition/train'"
   ]
  },
  {
   "cell_type": "code",
   "execution_count": 24,
   "metadata": {},
   "outputs": [],
   "source": [
    "traingen = ImageDataGenerator(\n",
    "            rescale = 1./255,\n",
    "            shear_range = 0.2,\n",
    "            zoom_range = 0.2,\n",
    "            horizontal_flip = True)"
   ]
  },
  {
   "cell_type": "code",
   "execution_count": 25,
   "metadata": {},
   "outputs": [],
   "source": [
    "testgen = ImageDataGenerator(\n",
    "            rescale = 1./255)"
   ]
  },
  {
   "cell_type": "code",
   "execution_count": 26,
   "metadata": {},
   "outputs": [
    {
     "name": "stdout",
     "output_type": "stream",
     "text": [
      "Found 780 images belonging to 6 classes.\n"
     ]
    }
   ],
   "source": [
    "trainingset = traingen.flow_from_directory(trainpath,\n",
    "                                          target_size=(128,128),\n",
    "                                          batch_size=5,\n",
    "                                          class_mode='categorical')"
   ]
  },
  {
   "cell_type": "code",
   "execution_count": 27,
   "metadata": {},
   "outputs": [
    {
     "name": "stdout",
     "output_type": "stream",
     "text": [
      "Found 180 images belonging to 6 classes.\n"
     ]
    }
   ],
   "source": [
    "testset = testgen.flow_from_directory(testpath,\n",
    "                                          target_size=(128,128),\n",
    "                                          batch_size=5,\n",
    "                                          class_mode='categorical')"
   ]
  },
  {
   "cell_type": "code",
   "execution_count": 28,
   "metadata": {},
   "outputs": [],
   "source": [
    "model = Sequential()\n",
    "model.add(Conv2D(64,(3,3),input_shape=(128,128,3), activation='relu'))\n",
    "model.add(MaxPooling2D(pool_size=(2,2)))\n",
    "model.add(Conv2D(64,(3,3),activation='relu'))\n",
    "model.add(MaxPooling2D(pool_size=(2,2)))\n",
    "model.add(Conv2D(64,(3,3),activation='relu'))\n",
    "model.add(MaxPooling2D(pool_size=(2,2)))\n",
    "model.add(Conv2D(64,(3,3),activation='relu'))\n",
    "model.add(MaxPooling2D(pool_size=(2,2)))\n",
    "model.add(Flatten())\n",
    "model.add(Dense(256, activation='relu'))\n",
    "model.add(Dense(6, activation='softmax'))"
   ]
  },
  {
   "cell_type": "code",
   "execution_count": 29,
   "metadata": {},
   "outputs": [],
   "source": [
    "model.compile(Adam(lr=0.0001),loss='categorical_crossentropy',metrics=['accuracy'])"
   ]
  },
  {
   "cell_type": "code",
   "execution_count": 30,
   "metadata": {},
   "outputs": [
    {
     "name": "stdout",
     "output_type": "stream",
     "text": [
      "Epoch 1/10\n",
      " - 143s - loss: 0.8103 - accuracy: 0.6777 - val_loss: 0.2049 - val_accuracy: 0.9278\n",
      "Epoch 2/10\n",
      " - 142s - loss: 0.1195 - accuracy: 0.9597 - val_loss: 0.7846 - val_accuracy: 0.9500\n",
      "Epoch 3/10\n",
      " - 132s - loss: 0.0667 - accuracy: 0.9774 - val_loss: 0.2887 - val_accuracy: 0.8556\n",
      "Epoch 4/10\n",
      " - 140s - loss: 0.0287 - accuracy: 0.9908 - val_loss: 0.3912 - val_accuracy: 0.8944\n",
      "Epoch 5/10\n",
      " - 145s - loss: 0.0270 - accuracy: 0.9926 - val_loss: 8.1741e-04 - val_accuracy: 0.8833\n",
      "Epoch 6/10\n",
      " - 151s - loss: 0.0182 - accuracy: 0.9949 - val_loss: 0.2896 - val_accuracy: 0.8944\n",
      "Epoch 7/10\n",
      " - 137s - loss: 0.0213 - accuracy: 0.9931 - val_loss: 1.6017 - val_accuracy: 0.8056\n",
      "Epoch 8/10\n",
      " - 131s - loss: 0.0193 - accuracy: 0.9926 - val_loss: 0.0806 - val_accuracy: 0.9333\n",
      "Epoch 9/10\n",
      " - 132s - loss: 0.0094 - accuracy: 0.9985 - val_loss: 0.2683 - val_accuracy: 0.9500\n",
      "Epoch 10/10\n",
      " - 135s - loss: 0.0140 - accuracy: 0.9962 - val_loss: 0.0478 - val_accuracy: 0.9667\n"
     ]
    },
    {
     "data": {
      "text/plain": [
       "<keras.callbacks.callbacks.History at 0x285a0912548>"
      ]
     },
     "execution_count": 30,
     "metadata": {},
     "output_type": "execute_result"
    }
   ],
   "source": [
    "model.fit_generator(trainingset, steps_per_epoch=780,epochs=10,validation_data=testset, validation_steps=180,verbose=2)"
   ]
  },
  {
   "cell_type": "code",
   "execution_count": 31,
   "metadata": {},
   "outputs": [],
   "source": [
    "model_json = model.to_json()\n",
    "with open(\"model-bw.json\",'w') as json_file:\n",
    "    json_file.write(model_json)\n",
    "    \n",
    "model.save_weights(\"model-bw.h5\")"
   ]
  },
  {
   "cell_type": "code",
   "execution_count": 11,
   "metadata": {},
   "outputs": [],
   "source": [
    "preds = model.predict_generator(testset, verbose=0)"
   ]
  },
  {
   "cell_type": "code",
   "execution_count": 12,
   "metadata": {},
   "outputs": [],
   "source": [
    "labels= ['zero','one','two','three','four','five']"
   ]
  },
  {
   "cell_type": "code",
   "execution_count": 14,
   "metadata": {},
   "outputs": [],
   "source": [
    "import numpy as np"
   ]
  },
  {
   "cell_type": "code",
   "execution_count": 19,
   "metadata": {},
   "outputs": [
    {
     "name": "stdout",
     "output_type": "stream",
     "text": [
      "two\n",
      "four\n",
      "five\n",
      "five\n",
      "five\n",
      "zero\n",
      "one\n",
      "one\n",
      "one\n",
      "five\n",
      "one\n",
      "two\n",
      "five\n",
      "four\n",
      "three\n",
      "five\n",
      "three\n",
      "zero\n",
      "one\n",
      "zero\n",
      "five\n",
      "three\n",
      "five\n",
      "zero\n",
      "zero\n",
      "three\n",
      "three\n",
      "three\n",
      "zero\n",
      "four\n",
      "zero\n",
      "one\n",
      "four\n",
      "four\n",
      "three\n",
      "zero\n",
      "four\n",
      "five\n",
      "zero\n",
      "zero\n",
      "zero\n",
      "two\n",
      "four\n",
      "five\n",
      "four\n",
      "one\n",
      "one\n",
      "two\n",
      "one\n",
      "four\n",
      "zero\n",
      "five\n",
      "four\n",
      "two\n",
      "two\n",
      "zero\n",
      "three\n",
      "three\n",
      "four\n",
      "zero\n",
      "one\n",
      "one\n",
      "five\n",
      "zero\n",
      "three\n",
      "three\n",
      "four\n",
      "zero\n",
      "zero\n",
      "one\n",
      "three\n",
      "one\n",
      "one\n",
      "zero\n",
      "zero\n",
      "one\n",
      "zero\n",
      "five\n",
      "one\n",
      "one\n",
      "three\n",
      "one\n",
      "three\n",
      "zero\n",
      "four\n",
      "three\n",
      "five\n",
      "five\n",
      "three\n",
      "zero\n",
      "four\n",
      "zero\n",
      "four\n",
      "five\n",
      "four\n",
      "four\n",
      "four\n",
      "three\n",
      "one\n",
      "five\n",
      "three\n",
      "three\n",
      "five\n",
      "four\n",
      "two\n",
      "zero\n",
      "five\n",
      "two\n",
      "five\n",
      "zero\n",
      "four\n",
      "three\n",
      "one\n",
      "four\n",
      "four\n",
      "three\n",
      "five\n",
      "four\n",
      "five\n",
      "three\n"
     ]
    }
   ],
   "source": [
    "for i in range(len(preds)):\n",
    "               name = np.argmax(preds[i])\n",
    "               print(labels[name])"
   ]
  },
  {
   "cell_type": "code",
   "execution_count": null,
   "metadata": {},
   "outputs": [],
   "source": []
  }
 ],
 "metadata": {
  "kernelspec": {
   "display_name": "Python 3",
   "language": "python",
   "name": "python3"
  },
  "language_info": {
   "codemirror_mode": {
    "name": "ipython",
    "version": 3
   },
   "file_extension": ".py",
   "mimetype": "text/x-python",
   "name": "python",
   "nbconvert_exporter": "python",
   "pygments_lexer": "ipython3",
   "version": "3.7.4"
  }
 },
 "nbformat": 4,
 "nbformat_minor": 2
}
