{
 "cells": [
  {
   "cell_type": "code",
   "execution_count": 1,
   "metadata": {},
   "outputs": [
    {
     "name": "stderr",
     "output_type": "stream",
     "text": [
      "Using TensorFlow backend.\n"
     ]
    }
   ],
   "source": [
    "import pandas as pd\n",
    "import numpy as np\n",
    "import os, sys\n",
    "from keras.models import Sequential\n",
    "from keras.layers import Dense, Activation, Flatten, MaxPooling2D, AveragePooling2D, BatchNormalization, Conv2D\n",
    "from keras.optimizers import Adam\n",
    "from keras.regularizers import l2\n",
    "from keras.metrics import categorical_crossentropy\n",
    "from keras.utils import np_utils"
   ]
  },
  {
   "cell_type": "code",
   "execution_count": 2,
   "metadata": {},
   "outputs": [
    {
     "data": {
      "text/html": [
       "<div>\n",
       "<style scoped>\n",
       "    .dataframe tbody tr th:only-of-type {\n",
       "        vertical-align: middle;\n",
       "    }\n",
       "\n",
       "    .dataframe tbody tr th {\n",
       "        vertical-align: top;\n",
       "    }\n",
       "\n",
       "    .dataframe thead th {\n",
       "        text-align: right;\n",
       "    }\n",
       "</style>\n",
       "<table border=\"1\" class=\"dataframe\">\n",
       "  <thead>\n",
       "    <tr style=\"text-align: right;\">\n",
       "      <th></th>\n",
       "      <th>emotion</th>\n",
       "      <th>pixels</th>\n",
       "      <th>Usage</th>\n",
       "    </tr>\n",
       "  </thead>\n",
       "  <tbody>\n",
       "    <tr>\n",
       "      <td>0</td>\n",
       "      <td>0</td>\n",
       "      <td>70 80 82 72 58 58 60 63 54 58 60 48 89 115 121...</td>\n",
       "      <td>Training</td>\n",
       "    </tr>\n",
       "    <tr>\n",
       "      <td>1</td>\n",
       "      <td>0</td>\n",
       "      <td>151 150 147 155 148 133 111 140 170 174 182 15...</td>\n",
       "      <td>Training</td>\n",
       "    </tr>\n",
       "    <tr>\n",
       "      <td>2</td>\n",
       "      <td>2</td>\n",
       "      <td>231 212 156 164 174 138 161 173 182 200 106 38...</td>\n",
       "      <td>Training</td>\n",
       "    </tr>\n",
       "    <tr>\n",
       "      <td>3</td>\n",
       "      <td>4</td>\n",
       "      <td>24 32 36 30 32 23 19 20 30 41 21 22 32 34 21 1...</td>\n",
       "      <td>Training</td>\n",
       "    </tr>\n",
       "    <tr>\n",
       "      <td>4</td>\n",
       "      <td>6</td>\n",
       "      <td>4 0 0 0 0 0 0 0 0 0 0 0 3 15 23 28 48 50 58 84...</td>\n",
       "      <td>Training</td>\n",
       "    </tr>\n",
       "  </tbody>\n",
       "</table>\n",
       "</div>"
      ],
      "text/plain": [
       "   emotion                                             pixels     Usage\n",
       "0        0  70 80 82 72 58 58 60 63 54 58 60 48 89 115 121...  Training\n",
       "1        0  151 150 147 155 148 133 111 140 170 174 182 15...  Training\n",
       "2        2  231 212 156 164 174 138 161 173 182 200 106 38...  Training\n",
       "3        4  24 32 36 30 32 23 19 20 30 41 21 22 32 34 21 1...  Training\n",
       "4        6  4 0 0 0 0 0 0 0 0 0 0 0 3 15 23 28 48 50 58 84...  Training"
      ]
     },
     "metadata": {},
     "output_type": "display_data"
    }
   ],
   "source": [
    "df = pd.read_csv('Emotions.csv')\n",
    "display(df[0:5])"
   ]
  },
  {
   "cell_type": "code",
   "execution_count": 4,
   "metadata": {},
   "outputs": [],
   "source": [
    "x_train, x_test, y_train, y_test = [], [], [], []"
   ]
  },
  {
   "cell_type": "code",
   "execution_count": 5,
   "metadata": {},
   "outputs": [],
   "source": [
    "for index, row in df.iterrows():\n",
    "    val = row['pixels'].split(\" \")\n",
    "    try:\n",
    "        if 'Training' in row['Usage']:\n",
    "            x_train.append(np.array(val, 'float32'))\n",
    "            y_train.append(row['emotion'])\n",
    "        elif 'PublicTest' in row['Usage']:\n",
    "            x_test.append(np.array(val, 'float32'))\n",
    "            y_test.append(row['emotion'])\n",
    "    except :\n",
    "        print(f\"error occured in row: {row} index: {index}\")\n",
    "    "
   ]
  },
  {
   "cell_type": "code",
   "execution_count": 8,
   "metadata": {},
   "outputs": [],
   "source": [
    "x_train = np.array(x_train, 'float32')\n",
    "x_test = np.array(x_test, 'float32')\n",
    "y_train = np.array(y_train, 'float32')\n",
    "y_test = np.array(y_test, 'float32')"
   ]
  },
  {
   "cell_type": "code",
   "execution_count": 10,
   "metadata": {},
   "outputs": [
    {
     "data": {
      "text/plain": [
       "(28709, 2304)"
      ]
     },
     "execution_count": 10,
     "metadata": {},
     "output_type": "execute_result"
    }
   ],
   "source": [
    "x_train.shape"
   ]
  },
  {
   "cell_type": "code",
   "execution_count": 11,
   "metadata": {},
   "outputs": [],
   "source": [
    "x_train = x_train[0:5000]\n",
    "x_test = x_test[0:1000]\n",
    "y_train = y_train[0:5000]\n",
    "y_test = y_test[0:1000]"
   ]
  },
  {
   "cell_type": "code",
   "execution_count": 12,
   "metadata": {},
   "outputs": [
    {
     "data": {
      "text/plain": [
       "(5000, 2304)"
      ]
     },
     "execution_count": 12,
     "metadata": {},
     "output_type": "execute_result"
    }
   ],
   "source": [
    "x_train.shape"
   ]
  },
  {
   "cell_type": "code",
   "execution_count": 13,
   "metadata": {},
   "outputs": [
    {
     "data": {
      "text/plain": [
       "(1000, 2304)"
      ]
     },
     "execution_count": 13,
     "metadata": {},
     "output_type": "execute_result"
    }
   ],
   "source": [
    "x_test.shape"
   ]
  },
  {
   "cell_type": "code",
   "execution_count": 15,
   "metadata": {},
   "outputs": [
    {
     "data": {
      "text/plain": [
       "2.0"
      ]
     },
     "execution_count": 15,
     "metadata": {},
     "output_type": "execute_result"
    }
   ],
   "source": [
    "y_train[5]"
   ]
  },
  {
   "cell_type": "code",
   "execution_count": 17,
   "metadata": {},
   "outputs": [],
   "source": [
    "y_train = np_utils.to_categorical(y_train, num_classes=7)\n",
    "y_test = np_utils.to_categorical(y_test, num_classes=7)"
   ]
  },
  {
   "cell_type": "code",
   "execution_count": 20,
   "metadata": {},
   "outputs": [
    {
     "data": {
      "text/plain": [
       "array([1., 0., 0., 0., 0., 0., 0.], dtype=float32)"
      ]
     },
     "execution_count": 20,
     "metadata": {},
     "output_type": "execute_result"
    }
   ],
   "source": [
    "y_test[0]"
   ]
  },
  {
   "cell_type": "code",
   "execution_count": 18,
   "metadata": {},
   "outputs": [],
   "source": [
    "x_train -= np.mean(x_train, axis=0)\n",
    "x_train /= np.std(x_train, axis=0)"
   ]
  },
  {
   "cell_type": "code",
   "execution_count": 19,
   "metadata": {},
   "outputs": [],
   "source": [
    "x_test -= np.mean(x_test, axis=0)\n",
    "x_test /= np.std(x_test, axis=0)"
   ]
  },
  {
   "cell_type": "code",
   "execution_count": 21,
   "metadata": {},
   "outputs": [],
   "source": [
    "x_train = x_train.reshape(x_train.shape[0], 48, 48, 1)\n",
    "x_test = x_test.reshape(x_test.shape[0], 48, 48, 1)"
   ]
  },
  {
   "cell_type": "code",
   "execution_count": 22,
   "metadata": {},
   "outputs": [
    {
     "data": {
      "text/plain": [
       "(5000, 48, 48, 1)"
      ]
     },
     "execution_count": 22,
     "metadata": {},
     "output_type": "execute_result"
    }
   ],
   "source": [
    "x_train.shape"
   ]
  },
  {
   "cell_type": "code",
   "execution_count": 24,
   "metadata": {},
   "outputs": [],
   "source": [
    "from keras.layers import Dropout"
   ]
  },
  {
   "cell_type": "code",
   "execution_count": 25,
   "metadata": {},
   "outputs": [],
   "source": [
    "model = Sequential()\n",
    "model.add(Conv2D(64, kernel_size=(3,3), activation='relu', input_shape=(48,48,1)))\n",
    "model.add(Conv2D(64, (3,3), activation='relu'))\n",
    "model.add(MaxPooling2D(pool_size=(2,2), strides=(2,2)))\n",
    "model.add(Dropout(0.5))\n"
   ]
  },
  {
   "cell_type": "code",
   "execution_count": 26,
   "metadata": {},
   "outputs": [],
   "source": [
    "model.add(Conv2D(64, (3,3), activation='relu'))\n",
    "model.add(Conv2D(64, (3,3), activation='relu'))\n",
    "model.add(MaxPooling2D(pool_size=(2,2), strides=(2,2)))\n",
    "model.add(Dropout(0.5))"
   ]
  },
  {
   "cell_type": "code",
   "execution_count": 27,
   "metadata": {},
   "outputs": [],
   "source": [
    "model.add(Conv2D(64, (3,3), activation='relu'))\n",
    "model.add(Conv2D(64, (3,3), activation='relu'))\n",
    "model.add(MaxPooling2D(pool_size=(2,2), strides=(2,2)))\n",
    "model.add(Flatten())"
   ]
  },
  {
   "cell_type": "code",
   "execution_count": 28,
   "metadata": {},
   "outputs": [],
   "source": [
    "model.add(Dense(1024, activation='relu'))\n",
    "model.add(Dropout(0.2))\n",
    "model.add(Dense(1024, activation='relu'))\n",
    "model.add(Dropout(0.2))"
   ]
  },
  {
   "cell_type": "code",
   "execution_count": 29,
   "metadata": {},
   "outputs": [],
   "source": [
    "model.add(Dense(7, activation='softmax'))"
   ]
  },
  {
   "cell_type": "code",
   "execution_count": 30,
   "metadata": {},
   "outputs": [
    {
     "name": "stdout",
     "output_type": "stream",
     "text": [
      "Model: \"sequential_2\"\n",
      "_________________________________________________________________\n",
      "Layer (type)                 Output Shape              Param #   \n",
      "=================================================================\n",
      "conv2d_3 (Conv2D)            (None, 46, 46, 64)        640       \n",
      "_________________________________________________________________\n",
      "conv2d_4 (Conv2D)            (None, 44, 44, 64)        36928     \n",
      "_________________________________________________________________\n",
      "max_pooling2d_2 (MaxPooling2 (None, 22, 22, 64)        0         \n",
      "_________________________________________________________________\n",
      "dropout_1 (Dropout)          (None, 22, 22, 64)        0         \n",
      "_________________________________________________________________\n",
      "conv2d_5 (Conv2D)            (None, 20, 20, 64)        36928     \n",
      "_________________________________________________________________\n",
      "conv2d_6 (Conv2D)            (None, 18, 18, 64)        36928     \n",
      "_________________________________________________________________\n",
      "max_pooling2d_3 (MaxPooling2 (None, 9, 9, 64)          0         \n",
      "_________________________________________________________________\n",
      "dropout_2 (Dropout)          (None, 9, 9, 64)          0         \n",
      "_________________________________________________________________\n",
      "conv2d_7 (Conv2D)            (None, 7, 7, 64)          36928     \n",
      "_________________________________________________________________\n",
      "conv2d_8 (Conv2D)            (None, 5, 5, 64)          36928     \n",
      "_________________________________________________________________\n",
      "max_pooling2d_4 (MaxPooling2 (None, 2, 2, 64)          0         \n",
      "_________________________________________________________________\n",
      "flatten_1 (Flatten)          (None, 256)               0         \n",
      "_________________________________________________________________\n",
      "dense_1 (Dense)              (None, 1024)              263168    \n",
      "_________________________________________________________________\n",
      "dropout_3 (Dropout)          (None, 1024)              0         \n",
      "_________________________________________________________________\n",
      "dense_2 (Dense)              (None, 1024)              1049600   \n",
      "_________________________________________________________________\n",
      "dropout_4 (Dropout)          (None, 1024)              0         \n",
      "_________________________________________________________________\n",
      "dense_3 (Dense)              (None, 7)                 7175      \n",
      "=================================================================\n",
      "Total params: 1,505,223\n",
      "Trainable params: 1,505,223\n",
      "Non-trainable params: 0\n",
      "_________________________________________________________________\n"
     ]
    }
   ],
   "source": [
    "model.summary()"
   ]
  },
  {
   "cell_type": "code",
   "execution_count": 31,
   "metadata": {},
   "outputs": [],
   "source": [
    "model.compile(Adam(lr=0.0001), loss='categorical_crossentropy', metrics=['accuracy'])"
   ]
  },
  {
   "cell_type": "code",
   "execution_count": 33,
   "metadata": {},
   "outputs": [
    {
     "name": "stdout",
     "output_type": "stream",
     "text": [
      "Train on 5000 samples, validate on 1000 samples\n",
      "Epoch 1/50\n",
      " - 53s - loss: 1.7601 - accuracy: 0.2702 - val_loss: 1.7650 - val_accuracy: 0.2680\n",
      "Epoch 2/50\n",
      " - 52s - loss: 1.7389 - accuracy: 0.2928 - val_loss: 1.7360 - val_accuracy: 0.2960\n",
      "Epoch 3/50\n",
      " - 52s - loss: 1.7114 - accuracy: 0.3026 - val_loss: 1.7158 - val_accuracy: 0.3140\n",
      "Epoch 4/50\n",
      " - 52s - loss: 1.6782 - accuracy: 0.3364 - val_loss: 1.6823 - val_accuracy: 0.3130\n",
      "Epoch 5/50\n",
      " - 53s - loss: 1.6535 - accuracy: 0.3370 - val_loss: 1.6694 - val_accuracy: 0.3350\n",
      "Epoch 6/50\n",
      " - 53s - loss: 1.6236 - accuracy: 0.3646 - val_loss: 1.6276 - val_accuracy: 0.3440\n",
      "Epoch 7/50\n",
      " - 53s - loss: 1.5937 - accuracy: 0.3754 - val_loss: 1.6283 - val_accuracy: 0.3520\n",
      "Epoch 8/50\n",
      " - 53s - loss: 1.5793 - accuracy: 0.3862 - val_loss: 1.6021 - val_accuracy: 0.3680\n",
      "Epoch 9/50\n",
      " - 53s - loss: 1.5638 - accuracy: 0.3944 - val_loss: 1.5923 - val_accuracy: 0.3550\n",
      "Epoch 10/50\n",
      " - 53s - loss: 1.5386 - accuracy: 0.4022 - val_loss: 1.5939 - val_accuracy: 0.3610\n",
      "Epoch 11/50\n",
      " - 53s - loss: 1.5314 - accuracy: 0.4032 - val_loss: 1.5666 - val_accuracy: 0.4020\n",
      "Epoch 12/50\n",
      " - 53s - loss: 1.5031 - accuracy: 0.4210 - val_loss: 1.5544 - val_accuracy: 0.4060\n",
      "Epoch 13/50\n",
      " - 52s - loss: 1.4939 - accuracy: 0.4180 - val_loss: 1.5470 - val_accuracy: 0.3810\n",
      "Epoch 14/50\n",
      " - 53s - loss: 1.4810 - accuracy: 0.4298 - val_loss: 1.5334 - val_accuracy: 0.4260\n",
      "Epoch 15/50\n",
      " - 53s - loss: 1.4700 - accuracy: 0.4316 - val_loss: 1.5345 - val_accuracy: 0.4200\n",
      "Epoch 16/50\n",
      " - 56s - loss: 1.4545 - accuracy: 0.4414 - val_loss: 1.5145 - val_accuracy: 0.4130\n",
      "Epoch 17/50\n",
      " - 54s - loss: 1.4496 - accuracy: 0.4462 - val_loss: 1.5262 - val_accuracy: 0.4010\n",
      "Epoch 18/50\n",
      " - 53s - loss: 1.4350 - accuracy: 0.4534 - val_loss: 1.5142 - val_accuracy: 0.4220\n",
      "Epoch 19/50\n",
      " - 53s - loss: 1.4102 - accuracy: 0.4662 - val_loss: 1.4993 - val_accuracy: 0.4090\n",
      "Epoch 20/50\n",
      " - 53s - loss: 1.4148 - accuracy: 0.4592 - val_loss: 1.4985 - val_accuracy: 0.4030\n",
      "Epoch 21/50\n",
      " - 52s - loss: 1.3866 - accuracy: 0.4734 - val_loss: 1.5033 - val_accuracy: 0.4180\n",
      "Epoch 22/50\n",
      " - 53s - loss: 1.3808 - accuracy: 0.4816 - val_loss: 1.4893 - val_accuracy: 0.4290\n",
      "Epoch 23/50\n",
      " - 53s - loss: 1.3597 - accuracy: 0.4904 - val_loss: 1.4617 - val_accuracy: 0.4430\n",
      "Epoch 24/50\n",
      " - 53s - loss: 1.3484 - accuracy: 0.4860 - val_loss: 1.4740 - val_accuracy: 0.4290\n",
      "Epoch 25/50\n",
      " - 53s - loss: 1.3376 - accuracy: 0.4830 - val_loss: 1.4742 - val_accuracy: 0.4280\n",
      "Epoch 26/50\n",
      " - 53s - loss: 1.3313 - accuracy: 0.4944 - val_loss: 1.4692 - val_accuracy: 0.4320\n",
      "Epoch 27/50\n",
      " - 54s - loss: 1.3099 - accuracy: 0.5054 - val_loss: 1.4724 - val_accuracy: 0.4430\n",
      "Epoch 28/50\n",
      " - 53s - loss: 1.2877 - accuracy: 0.5160 - val_loss: 1.4574 - val_accuracy: 0.4450\n",
      "Epoch 29/50\n",
      " - 53s - loss: 1.2813 - accuracy: 0.5138 - val_loss: 1.4815 - val_accuracy: 0.4360\n",
      "Epoch 30/50\n",
      " - 53s - loss: 1.2688 - accuracy: 0.5148 - val_loss: 1.4512 - val_accuracy: 0.4310\n",
      "Epoch 31/50\n",
      " - 53s - loss: 1.2504 - accuracy: 0.5198 - val_loss: 1.4777 - val_accuracy: 0.4340\n",
      "Epoch 32/50\n",
      " - 53s - loss: 1.2379 - accuracy: 0.5252 - val_loss: 1.4485 - val_accuracy: 0.4450\n",
      "Epoch 33/50\n",
      " - 54s - loss: 1.2048 - accuracy: 0.5478 - val_loss: 1.4809 - val_accuracy: 0.4310\n",
      "Epoch 34/50\n",
      " - 53s - loss: 1.1995 - accuracy: 0.5456 - val_loss: 1.4684 - val_accuracy: 0.4450\n",
      "Epoch 35/50\n",
      " - 50s - loss: 1.1928 - accuracy: 0.5486 - val_loss: 1.4596 - val_accuracy: 0.4440\n",
      "Epoch 36/50\n",
      " - 52s - loss: 1.1839 - accuracy: 0.5550 - val_loss: 1.5340 - val_accuracy: 0.4330\n",
      "Epoch 37/50\n",
      " - 54s - loss: 1.1564 - accuracy: 0.5636 - val_loss: 1.4493 - val_accuracy: 0.4570\n",
      "Epoch 38/50\n",
      " - 53s - loss: 1.1457 - accuracy: 0.5698 - val_loss: 1.4843 - val_accuracy: 0.4450\n",
      "Epoch 39/50\n",
      " - 54s - loss: 1.1171 - accuracy: 0.5892 - val_loss: 1.5162 - val_accuracy: 0.4340\n",
      "Epoch 40/50\n",
      " - 53s - loss: 1.1180 - accuracy: 0.5710 - val_loss: 1.5084 - val_accuracy: 0.4260\n",
      "Epoch 41/50\n",
      " - 54s - loss: 1.0793 - accuracy: 0.5968 - val_loss: 1.5568 - val_accuracy: 0.4420\n",
      "Epoch 42/50\n",
      " - 54s - loss: 1.0690 - accuracy: 0.5988 - val_loss: 1.5330 - val_accuracy: 0.4330\n",
      "Epoch 43/50\n",
      " - 53s - loss: 1.0435 - accuracy: 0.6060 - val_loss: 1.5258 - val_accuracy: 0.4340\n",
      "Epoch 44/50\n",
      " - 53s - loss: 1.0276 - accuracy: 0.6164 - val_loss: 1.5211 - val_accuracy: 0.4340\n",
      "Epoch 45/50\n",
      " - 53s - loss: 1.0202 - accuracy: 0.6282 - val_loss: 1.5481 - val_accuracy: 0.4540\n",
      "Epoch 46/50\n",
      " - 54s - loss: 0.9827 - accuracy: 0.6336 - val_loss: 1.5573 - val_accuracy: 0.4420\n",
      "Epoch 47/50\n",
      " - 54s - loss: 0.9737 - accuracy: 0.6356 - val_loss: 1.5739 - val_accuracy: 0.4370\n",
      "Epoch 48/50\n",
      " - 54s - loss: 0.9656 - accuracy: 0.6478 - val_loss: 1.5561 - val_accuracy: 0.4250\n",
      "Epoch 49/50\n",
      " - 55s - loss: 0.9504 - accuracy: 0.6380 - val_loss: 1.6273 - val_accuracy: 0.4390\n",
      "Epoch 50/50\n",
      " - 58s - loss: 0.9400 - accuracy: 0.6496 - val_loss: 1.6302 - val_accuracy: 0.4330\n"
     ]
    },
    {
     "data": {
      "text/plain": [
       "<keras.callbacks.callbacks.History at 0x251a7405488>"
      ]
     },
     "execution_count": 33,
     "metadata": {},
     "output_type": "execute_result"
    }
   ],
   "source": [
    "model.fit(x_train, y_train, batch_size=64, epochs=50, shuffle=True, validation_data= (x_test, y_test), verbose=2)"
   ]
  },
  {
   "cell_type": "code",
   "execution_count": 34,
   "metadata": {},
   "outputs": [],
   "source": [
    "fer_json = model.to_json()\n",
    "with open(\"emotion.json\",'w') as json_file:\n",
    "    json_file.write(fer_json)\n",
    "model.save_weights('emotion_weights.h5')"
   ]
  },
  {
   "cell_type": "code",
   "execution_count": null,
   "metadata": {},
   "outputs": [],
   "source": []
  }
 ],
 "metadata": {
  "kernelspec": {
   "display_name": "Python 3",
   "language": "python",
   "name": "python3"
  },
  "language_info": {
   "codemirror_mode": {
    "name": "ipython",
    "version": 3
   },
   "file_extension": ".py",
   "mimetype": "text/x-python",
   "name": "python",
   "nbconvert_exporter": "python",
   "pygments_lexer": "ipython3",
   "version": "3.7.4"
  }
 },
 "nbformat": 4,
 "nbformat_minor": 2
}
